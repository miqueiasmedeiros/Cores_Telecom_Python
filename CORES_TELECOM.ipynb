{
 "cells": [
  {
   "cell_type": "code",
   "execution_count": 3,
   "metadata": {},
   "outputs": [
    {
     "name": "stdout",
     "output_type": "stream",
     "text": [
      "Digite o número da fibra: 144\n",
      "cor: aqua \n",
      "grupo: 12\n"
     ]
    }
   ],
   "source": [
    "# Código desenvolvido por Thiago_House e Miquéias Medeiros\n",
    "# Thiago contribuiu bastante para redução do meu código.\n",
    "import os\n",
    "numfibra = int(input('Digite o número da fibra: '))\n",
    "corfibra = [\n",
    "    'verde', 'amarela', 'branca', 'azul', \n",
    "    'vermelha','violeta', 'marrom', 'rosa',\n",
    "    'preta', 'cinza', 'lanranja', 'aqua'\n",
    "]\n",
    "if (numfibra < 1) or (numfibra > 288):\n",
    "    print('##Número inválido.')\n",
    "    os.system(\"pause\")\n",
    "    exit()\n",
    "else:\n",
    "    n = numfibra % 12\n",
    "    grupo = numfibra / 12\n",
    "    if n == 0:\n",
    "        print('cor:', corfibra[11], '\\ngrupo:', int(grupo))\n",
    "    else :\n",
    "        print('cor:', corfibra[n-1], '\\ngrupo:', int(grupo) + 1)\n",
    "        os.system(\"pause\")"
   ]
  },
  {
   "cell_type": "code",
   "execution_count": 1,
   "metadata": {
    "colab": {
     "base_uri": "https://localhost:8080/"
    },
    "id": "w-CN2HGh4z_v",
    "outputId": "6f3cf611-5601-477e-c1c6-0784b1af2bb1"
   },
   "outputs": [
    {
     "ename": "KeyboardInterrupt",
     "evalue": "Interrupted by user",
     "output_type": "error",
     "traceback": [
      "\u001b[1;31m---------------------------------------------------------------------------\u001b[0m",
      "\u001b[1;31mKeyboardInterrupt\u001b[0m                         Traceback (most recent call last)",
      "\u001b[1;32m<ipython-input-1-e8231db73a4d>\u001b[0m in \u001b[0;36m<module>\u001b[1;34m\u001b[0m\n\u001b[1;32m----> 1\u001b[1;33m \u001b[0mnumfibra\u001b[0m \u001b[1;33m=\u001b[0m \u001b[0mint\u001b[0m\u001b[1;33m(\u001b[0m\u001b[0minput\u001b[0m\u001b[1;33m(\u001b[0m\u001b[1;34m'Digite o número da fibra: '\u001b[0m\u001b[1;33m)\u001b[0m\u001b[1;33m)\u001b[0m\u001b[1;33m\u001b[0m\u001b[1;33m\u001b[0m\u001b[0m\n\u001b[0m\u001b[0;32m      2\u001b[0m corfibra = [\n\u001b[0;32m      3\u001b[0m     \u001b[1;34m'verde'\u001b[0m\u001b[1;33m,\u001b[0m \u001b[1;34m'amarela'\u001b[0m\u001b[1;33m,\u001b[0m \u001b[1;34m'branca'\u001b[0m\u001b[1;33m,\u001b[0m \u001b[1;34m'azul'\u001b[0m\u001b[1;33m,\u001b[0m \u001b[1;34m'vermelha'\u001b[0m\u001b[1;33m,\u001b[0m\u001b[1;34m'violeta'\u001b[0m\u001b[1;33m,\u001b[0m \u001b[1;34m'marrom'\u001b[0m\u001b[1;33m,\u001b[0m \u001b[1;34m'rosa'\u001b[0m\u001b[1;33m,\u001b[0m \u001b[1;34m'preta'\u001b[0m\u001b[1;33m,\u001b[0m \u001b[1;34m'cinza'\u001b[0m\u001b[1;33m,\u001b[0m \u001b[1;34m'lanranja'\u001b[0m\u001b[1;33m,\u001b[0m \u001b[1;34m'aqua'\u001b[0m\u001b[1;33m\u001b[0m\u001b[1;33m\u001b[0m\u001b[0m\n\u001b[0;32m      4\u001b[0m ]\n\u001b[0;32m      5\u001b[0m \u001b[1;33m\u001b[0m\u001b[0m\n",
      "\u001b[1;32m~\\anaconda3\\lib\\site-packages\\ipykernel\\kernelbase.py\u001b[0m in \u001b[0;36mraw_input\u001b[1;34m(self, prompt)\u001b[0m\n\u001b[0;32m    858\u001b[0m                 \u001b[1;34m\"raw_input was called, but this frontend does not support input requests.\"\u001b[0m\u001b[1;33m\u001b[0m\u001b[1;33m\u001b[0m\u001b[0m\n\u001b[0;32m    859\u001b[0m             )\n\u001b[1;32m--> 860\u001b[1;33m         return self._input_request(str(prompt),\n\u001b[0m\u001b[0;32m    861\u001b[0m             \u001b[0mself\u001b[0m\u001b[1;33m.\u001b[0m\u001b[0m_parent_ident\u001b[0m\u001b[1;33m,\u001b[0m\u001b[1;33m\u001b[0m\u001b[1;33m\u001b[0m\u001b[0m\n\u001b[0;32m    862\u001b[0m             \u001b[0mself\u001b[0m\u001b[1;33m.\u001b[0m\u001b[0m_parent_header\u001b[0m\u001b[1;33m,\u001b[0m\u001b[1;33m\u001b[0m\u001b[1;33m\u001b[0m\u001b[0m\n",
      "\u001b[1;32m~\\anaconda3\\lib\\site-packages\\ipykernel\\kernelbase.py\u001b[0m in \u001b[0;36m_input_request\u001b[1;34m(self, prompt, ident, parent, password)\u001b[0m\n\u001b[0;32m    902\u001b[0m             \u001b[1;32mexcept\u001b[0m \u001b[0mKeyboardInterrupt\u001b[0m\u001b[1;33m:\u001b[0m\u001b[1;33m\u001b[0m\u001b[1;33m\u001b[0m\u001b[0m\n\u001b[0;32m    903\u001b[0m                 \u001b[1;31m# re-raise KeyboardInterrupt, to truncate traceback\u001b[0m\u001b[1;33m\u001b[0m\u001b[1;33m\u001b[0m\u001b[1;33m\u001b[0m\u001b[0m\n\u001b[1;32m--> 904\u001b[1;33m                 \u001b[1;32mraise\u001b[0m \u001b[0mKeyboardInterrupt\u001b[0m\u001b[1;33m(\u001b[0m\u001b[1;34m\"Interrupted by user\"\u001b[0m\u001b[1;33m)\u001b[0m \u001b[1;32mfrom\u001b[0m \u001b[1;32mNone\u001b[0m\u001b[1;33m\u001b[0m\u001b[1;33m\u001b[0m\u001b[0m\n\u001b[0m\u001b[0;32m    905\u001b[0m             \u001b[1;32mexcept\u001b[0m \u001b[0mException\u001b[0m \u001b[1;32mas\u001b[0m \u001b[0me\u001b[0m\u001b[1;33m:\u001b[0m\u001b[1;33m\u001b[0m\u001b[1;33m\u001b[0m\u001b[0m\n\u001b[0;32m    906\u001b[0m                 \u001b[0mself\u001b[0m\u001b[1;33m.\u001b[0m\u001b[0mlog\u001b[0m\u001b[1;33m.\u001b[0m\u001b[0mwarning\u001b[0m\u001b[1;33m(\u001b[0m\u001b[1;34m\"Invalid Message:\"\u001b[0m\u001b[1;33m,\u001b[0m \u001b[0mexc_info\u001b[0m\u001b[1;33m=\u001b[0m\u001b[1;32mTrue\u001b[0m\u001b[1;33m)\u001b[0m\u001b[1;33m\u001b[0m\u001b[1;33m\u001b[0m\u001b[0m\n",
      "\u001b[1;31mKeyboardInterrupt\u001b[0m: Interrupted by user"
     ]
    }
   ],
   "source": [
    "# Aqui eu ainda estava tentendo resolver o código\n",
    "numfibra = int(input('Digite o número da fibra: '))\n",
    "corfibra = [\n",
    "    'verde', 'amarela', 'branca', 'azul', 'vermelha','violeta', 'marrom', 'rosa', 'preta', 'cinza', 'lanranja', 'aqua'\n",
    "]\n",
    "\n",
    "while numfibra < 289:\n",
    "    if numfibra % 12 == 1:\n",
    "        print('cor:', corfibra[0])\n",
    "    elif numfibra % 12 == 2:\n",
    "        print('cor:', corfibra[1])\n",
    "    elif numfibra % 12 == 3:\n",
    "        print('cor:', corfibra[2])\n",
    "    elif numfibra % 12 == 4:\n",
    "        print('cor:', corfibra[3])\n",
    "    elif numfibra % 12 == 5:\n",
    "        print('cor:', corfibra[4])\n",
    "    elif numfibra % 12 == 6:\n",
    "        print('cor:', corfibra[5])\n",
    "    elif numfibra % 12 == 7:\n",
    "        print('cor:', corfibra[6])\n",
    "    elif numfibra % 12 == 8:\n",
    "        print('cor:', corfibra[7])\n",
    "    elif numfibra % 12 == 9:\n",
    "        print('cor:', corfibra[8])\n",
    "    elif numfibra % 12 == 10:\n",
    "        print('cor:', corfibra[9])\n",
    "    elif numfibra % 12 == 11:\n",
    "        print('cor', corfibra[10])\n",
    "    elif numfibra % 12 == 0:\n",
    "        print('cor:', corfibra[11])\n",
    "    \n",
    "        break\n",
    "    \n",
    "    else:\n",
    "        pass\n",
    "        print('Este número não faz parte da tabela de cores!')\n",
    "        numfibra += 1"
   ]
  },
  {
   "cell_type": "code",
   "execution_count": null,
   "metadata": {},
   "outputs": [],
   "source": [
    "# Tentativa de resolução com falhas\n",
    "numfibra = int(input('Digite o número da fibra: '))\n",
    "corfibra = [\n",
    "    'verde', 'amarela', 'branca', 'azul', 'vermelha','violeta', 'marrom', 'rosa', 'preta', 'cinza', 'lanranja', 'aqua'\n",
    "]\n",
    " numfibra < 289:\n",
    "    if numfibra % 12 == 1:\n",
    "        print('cor:', corfibra[0])\n",
    "        break\n",
    "    elif numfibra % 12 == 2:\n",
    "        print('cor:', corfibra[1])\n",
    "    else:\n",
    "        numfibra >= 289\n",
    "    print('Este numero não pertence ao código de cores!')"
   ]
  },
  {
   "cell_type": "code",
   "execution_count": null,
   "metadata": {
    "colab": {
     "base_uri": "https://localhost:8080/",
     "height": 564
    },
    "id": "QTzFQ0dGFRHS",
    "outputId": "71421782-1604-42a9-89f5-2395c251821c"
   },
   "outputs": [],
   "source": [
    "numfibra = int(input('Digite o número da fibra: '))\n",
    "corfibra = [\n",
    "    'verde', 'amarela', 'branca', 'azul', 'vermelha','violeta', 'marrom', 'rosa', 'preta', 'cinza', 'lanranja', 'aqua'\n",
    "]\n",
    "\n",
    "if numfibra % 12 == 1:\n",
    "    print('cor:', corfibra[0])\n",
    "elif numfibra % 12 == 2:\n",
    "    print('cor:',corfibra[1])\n",
    "elif numfibra % 12 == 3:\n",
    "    print('cor:', corfibra[2])\n",
    "elif numfibra % 12 == 4:\n",
    "    print('cor:', corfibra[3])\n",
    "elif numfibra % 12 == 5:\n",
    "    print('cor:', corfibra[4]) \n",
    "elif numfibra % 12 == 6:\n",
    "    print('cor:',corfibra[5])\n",
    "elif numfibra % 12 == 7:\n",
    "    print('cor:', corfibra[6])\n",
    "elif numfibra % 12 == 8:\n",
    "    print('cor:', corfibra[7])\n",
    "elif numfibra % 12 == 9:\n",
    "    print('cor:', corfibra[8])   \n",
    "elif numfibra % 12 == 10:\n",
    "    print('cor:', corfibra[9])\n",
    "elif numfibra % 12 == 11:\n",
    "    print('cor:', corfibra[10])   \n",
    "elif numfibra % 12 == 0:\n",
    "    print('cor:', corfibra[11])\n",
    "else:\n",
    "    print('Este número não faz parteda tabela de cores!')"
   ]
  },
  {
   "cell_type": "code",
   "execution_count": null,
   "metadata": {
    "colab": {
     "base_uri": "https://localhost:8080/"
    },
    "id": "xAup-iL2Y0TL",
    "outputId": "60ce7f2a-e06c-461d-fbfc-68e098748338"
   },
   "outputs": [],
   "source": [
    "numfibra = int(input('Digite o número da fibra: '))\n",
    "corfibra = [\n",
    "    'verde', 'amarela', 'branca', 'azul', 'vermelha','violeta', 'marrom', 'rosa', 'preta', 'cinza', 'lanranja', 'aqua'\n",
    "]\n",
    "grupo = numfibra * 24 / 288\n",
    "if numfibra % 12 == 1 and int(grupo):\n",
    "  print('cor da fibra:', corfibra[0], 'gurpo:', grupo)\n",
    "else:\n",
    "  print('##número inválido')\n"
   ]
  }
 ],
 "metadata": {
  "colab": {
   "name": "CORES_TELECOM.ipynb",
   "provenance": []
  },
  "kernelspec": {
   "display_name": "Python 3",
   "language": "python",
   "name": "python3"
  },
  "language_info": {
   "codemirror_mode": {
    "name": "ipython",
    "version": 3
   },
   "file_extension": ".py",
   "mimetype": "text/x-python",
   "name": "python",
   "nbconvert_exporter": "python",
   "pygments_lexer": "ipython3",
   "version": "3.8.8"
  }
 },
 "nbformat": 4,
 "nbformat_minor": 1
}
